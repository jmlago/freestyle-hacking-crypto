{
 "cells": [
  {
   "cell_type": "code",
   "execution_count": 1,
   "metadata": {},
   "outputs": [],
   "source": [
    "import pandas as pd\n",
    "import requests\n",
    "import numpy as np\n",
    "import time\n",
    "from tqdm.notebook import tqdm\n",
    "import pickle\n",
    "import seaborn as sns\n",
    "import matplotlib.pyplot as plt"
   ]
  },
  {
   "cell_type": "code",
   "execution_count": 2,
   "metadata": {},
   "outputs": [],
   "source": [
    "api_key = \"\""
   ]
  },
  {
   "cell_type": "code",
   "execution_count": 3,
   "metadata": {},
   "outputs": [],
   "source": [
    "collections_dict = {}"
   ]
  },
  {
   "cell_type": "code",
   "execution_count": 7,
   "metadata": {},
   "outputs": [],
   "source": [
    "def collection_info(collection_contract,api_key):\n",
    "    headers = {\"accept\": \"application/json\", \"X-API-Key\":api_key}\n",
    "    url = f\"https://deep-index.moralis.io/api/v2/nft/{collection_contract}/trades?chain=eth&marketplace=opensea\" # &offset=500&limit=1000\n",
    "    response = requests.request(\"GET\", url, headers=headers)\n",
    "    if response.status_code != 200:\n",
    "        print(f\"API returned status code {response.status_code}\")\n",
    "        print(f\"Probably you have exceeded API limitations!\")\n",
    "        return\n",
    "    content = response.json()\n",
    "    limit = int(content[\"total\"])\n",
    "    total_pages = int(np.ceil(limit / 500))\n",
    "    buyers = []\n",
    "    sellers = []\n",
    "    assets = []\n",
    "    prices_in_eth = []\n",
    "    block_timestamps = []\n",
    "    payment_token = []\n",
    "    for i in range(total_pages):\n",
    "        try:\n",
    "            offset = i*500\n",
    "            url = f\"https://deep-index.moralis.io/api/v2/nft/{collection_contract}/trades?chain=eth&marketplace=opensea&offset={offset}&limit={limit}\"\n",
    "            response = requests.request(\"GET\", url, headers=headers)\n",
    "            time.sleep(2)# else API rate breaks easily\n",
    "            content = response.json()\n",
    "            for tr in content[\"result\"]:\n",
    "                for asset in tr[\"token_ids\"]:\n",
    "                    assets.append(asset)\n",
    "                    buyers.append(tr[\"buyer_address\"])\n",
    "                    sellers.append(tr[\"seller_address\"])\n",
    "                    prices_in_eth.append(float(tr[\"price\"])/len(tr[\"token_ids\"])) #decimals of eth\n",
    "                    payment_token.append(tr[\"price_token_address\"])\n",
    "                    block_timestamps.append(tr[\"block_timestamp\"])\n",
    "        except KeyError:\n",
    "            continue\n",
    "    collection_addreses = pd.DataFrame(np.array([buyers,sellers,assets,prices_in_eth,block_timestamps,payment_token]).T, columns=[\"buyer\",\"seller\",\"asset_id\",\"price_in_eth\",\"block_timestamp\",\"payment_token\"])\n",
    "    collection_addreses[\"block_timestamp\"] = pd.to_datetime(collection_addreses[\"block_timestamp\"])\n",
    "    collection_addreses[\"collection\"] = collection_contract\n",
    "    return collection_addreses"
   ]
  },
  {
   "cell_type": "code",
   "execution_count": 8,
   "metadata": {},
   "outputs": [],
   "source": [
    "collections = pd.read_csv(\"./data/opensea_collections.csv\",index_col=0)"
   ]
  },
  {
   "cell_type": "code",
   "execution_count": 9,
   "metadata": {},
   "outputs": [
    {
     "data": {
      "text/plain": [
       "824"
      ]
     },
     "execution_count": 9,
     "metadata": {},
     "output_type": "execute_result"
    }
   ],
   "source": [
    "len(collections)"
   ]
  },
  {
   "cell_type": "code",
   "execution_count": 10,
   "metadata": {},
   "outputs": [
    {
     "data": {
      "application/vnd.jupyter.widget-view+json": {
       "model_id": "40c85bb77ffa47cb8416ff941daf95a3",
       "version_major": 2,
       "version_minor": 0
      },
      "text/plain": [
       "  0%|          | 0/824 [00:00<?, ?it/s]"
      ]
     },
     "metadata": {},
     "output_type": "display_data"
    },
    {
     "ename": "KeyboardInterrupt",
     "evalue": "",
     "output_type": "error",
     "traceback": [
      "\u001b[0;31m---------------------------------------------------------------------------\u001b[0m",
      "\u001b[0;31mKeyboardInterrupt\u001b[0m                         Traceback (most recent call last)",
      "Input \u001b[0;32mIn [10]\u001b[0m, in \u001b[0;36m<module>\u001b[0;34m\u001b[0m\n\u001b[1;32m      1\u001b[0m \u001b[38;5;66;03m## Extremely slow process\u001b[39;00m\n\u001b[1;32m      2\u001b[0m \u001b[38;5;28;01mfor\u001b[39;00m collection \u001b[38;5;129;01min\u001b[39;00m tqdm(collections[\u001b[38;5;124m\"\u001b[39m\u001b[38;5;124mcollection\u001b[39m\u001b[38;5;124m\"\u001b[39m]\u001b[38;5;241m.\u001b[39mtolist()):\u001b[38;5;66;03m# keep adding when error\u001b[39;00m\n\u001b[0;32m----> 3\u001b[0m     collection_info_df \u001b[38;5;241m=\u001b[39m \u001b[43mcollection_info\u001b[49m\u001b[43m(\u001b[49m\u001b[43mcollection\u001b[49m\u001b[43m,\u001b[49m\u001b[43mapi_key\u001b[49m\u001b[43m)\u001b[49m\n\u001b[1;32m      4\u001b[0m     collections_dict[collection] \u001b[38;5;241m=\u001b[39m collection_info_df\n",
      "Input \u001b[0;32mIn [7]\u001b[0m, in \u001b[0;36mcollection_info\u001b[0;34m(collection_contract, api_key)\u001b[0m\n\u001b[1;32m     21\u001b[0m url \u001b[38;5;241m=\u001b[39m \u001b[38;5;124mf\u001b[39m\u001b[38;5;124m\"\u001b[39m\u001b[38;5;124mhttps://deep-index.moralis.io/api/v2/nft/\u001b[39m\u001b[38;5;132;01m{\u001b[39;00mcollection_contract\u001b[38;5;132;01m}\u001b[39;00m\u001b[38;5;124m/trades?chain=eth&marketplace=opensea&offset=\u001b[39m\u001b[38;5;132;01m{\u001b[39;00moffset\u001b[38;5;132;01m}\u001b[39;00m\u001b[38;5;124m&limit=\u001b[39m\u001b[38;5;132;01m{\u001b[39;00mlimit\u001b[38;5;132;01m}\u001b[39;00m\u001b[38;5;124m\"\u001b[39m\n\u001b[1;32m     22\u001b[0m response \u001b[38;5;241m=\u001b[39m requests\u001b[38;5;241m.\u001b[39mrequest(\u001b[38;5;124m\"\u001b[39m\u001b[38;5;124mGET\u001b[39m\u001b[38;5;124m\"\u001b[39m, url, headers\u001b[38;5;241m=\u001b[39mheaders)\n\u001b[0;32m---> 23\u001b[0m \u001b[43mtime\u001b[49m\u001b[38;5;241;43m.\u001b[39;49m\u001b[43msleep\u001b[49m\u001b[43m(\u001b[49m\u001b[38;5;241;43m2\u001b[39;49m\u001b[43m)\u001b[49m\u001b[38;5;66;03m# else API rate breaks easily\u001b[39;00m\n\u001b[1;32m     24\u001b[0m content \u001b[38;5;241m=\u001b[39m response\u001b[38;5;241m.\u001b[39mjson()\n\u001b[1;32m     25\u001b[0m \u001b[38;5;28;01mfor\u001b[39;00m tr \u001b[38;5;129;01min\u001b[39;00m content[\u001b[38;5;124m\"\u001b[39m\u001b[38;5;124mresult\u001b[39m\u001b[38;5;124m\"\u001b[39m]:\n",
      "\u001b[0;31mKeyboardInterrupt\u001b[0m: "
     ]
    }
   ],
   "source": [
    "## Extremely slow process\n",
    "for collection in tqdm(collections[\"collection\"].tolist()):# keep adding when error\n",
    "    collection_info_df = collection_info(collection,api_key)\n",
    "    collections_dict[collection] = collection_info_df"
   ]
  },
  {
   "cell_type": "code",
   "execution_count": 13,
   "metadata": {},
   "outputs": [
    {
     "data": {
      "text/plain": [
       "54"
      ]
     },
     "execution_count": 13,
     "metadata": {},
     "output_type": "execute_result"
    }
   ],
   "source": [
    "len(collections_dict)"
   ]
  },
  {
   "cell_type": "code",
   "execution_count": 14,
   "metadata": {},
   "outputs": [],
   "source": [
    "with open(\"./data/collections_dict.pickle\", \"wb\") as f:\n",
    "    pickle.dump(collections_dict,f)"
   ]
  },
  {
   "cell_type": "code",
   "execution_count": null,
   "metadata": {},
   "outputs": [],
   "source": [
    "coll_txns_list = []\n",
    "for el in collections_dict:\n",
    "    coll_txns_list.append([collections_dict[el].shape[0],el])"
   ]
  },
  {
   "cell_type": "code",
   "execution_count": null,
   "metadata": {},
   "outputs": [],
   "source": [
    "sorted_colls = pd.DataFrame(coll_txns_list,columns=[\"txns_num\",\"address\"]).sort_values(by=\"txns_num\",ascending=False).reset_index(drop=True)"
   ]
  },
  {
   "cell_type": "code",
   "execution_count": null,
   "metadata": {},
   "outputs": [],
   "source": [
    "sorted_colls[\"txns_num\"].plot(kind=\"hist\");"
   ]
  },
  {
   "cell_type": "code",
   "execution_count": null,
   "metadata": {},
   "outputs": [],
   "source": [
    "sorted_colls[sorted_colls[\"txns_num\"] >=10000].head(10)"
   ]
  },
  {
   "cell_type": "code",
   "execution_count": null,
   "metadata": {},
   "outputs": [],
   "source": [
    "data"
   ]
  },
  {
   "cell_type": "code",
   "execution_count": null,
   "metadata": {},
   "outputs": [],
   "source": [
    "def plot_stats(collection, slow_plot=False):\n",
    "    data = collections_dict[collection].copy()\n",
    "    data[\"price_in_eth\"] = data[\"price_in_eth\"].astype(float)\n",
    "    data[\"block_timestamp\"] = pd.to_datetime(data[\"block_timestamp\"])\n",
    "    data[\"acc_price\"] = data[\"price_in_eth\"].cumsum()\n",
    "    \n",
    "    if slow_plot:\n",
    "        sns.lineplot(x=\"block_timestamp\",y=\"acc_price\",data=data);\n",
    "    \n",
    "    daily_grouped_data = data[[\"block_timestamp\",\"price_in_eth\"]].groupby(pd.Grouper(key='block_timestamp', axis=0, \n",
    "                          freq='d')).agg([\"mean\",\"count\"])\n",
    "    daily_grouped_data = daily_grouped_data.reset_index()\n",
    "    daily_grouped_data.columns = [\"block_timestamp\", \"avg_d_price\", \"count_trades\"]\n",
    "    days = (data[\"block_timestamp\"].max()-data[\"block_timestamp\"].min()).days\n",
    "    num_assets = len(set(data[\"asset_id\"].tolist()))\n",
    "    print(f\"For collection {collection}\")\n",
    "    print(f\"Total trading days is: {days}\")\n",
    "    print(f\"Total traded assets: {num_assets}\")\n",
    "    sns.lineplot(x=\"block_timestamp\",y=\"avg_d_price\",data=daily_grouped_data);\n",
    "    plt.show()\n",
    "    \n",
    "    sns.lineplot(x=\"block_timestamp\",y=\"count_trades\",data=daily_grouped_data);\n",
    "    plt.show()\n",
    "    \n",
    "    daily_grouped_data[\"avg_d_price\"].plot(kind=\"box\");\n",
    "    plt.show()\n",
    "    \n",
    "    daily_grouped_data[\"count_trades\"].plot(kind=\"box\");\n",
    "    plt.show()"
   ]
  },
  {
   "cell_type": "code",
   "execution_count": null,
   "metadata": {
    "scrolled": false
   },
   "outputs": [],
   "source": [
    "for collection in sorted_colls[sorted_colls[\"txns_num\"] >=10000][10:].head(10)[\"address\"].tolist():\n",
    "    plot_stats(collection)"
   ]
  },
  {
   "cell_type": "code",
   "execution_count": null,
   "metadata": {},
   "outputs": [],
   "source": []
  }
 ],
 "metadata": {
  "interpreter": {
   "hash": "f522d0510587305ab25b4568d494c81eb206e36c206c4ee3db8c1f2e33432fac"
  },
  "kernelspec": {
   "display_name": "Python 3 (ipykernel)",
   "language": "python",
   "name": "python3"
  },
  "language_info": {
   "codemirror_mode": {
    "name": "ipython",
    "version": 3
   },
   "file_extension": ".py",
   "mimetype": "text/x-python",
   "name": "python",
   "nbconvert_exporter": "python",
   "pygments_lexer": "ipython3",
   "version": "3.10.2"
  }
 },
 "nbformat": 4,
 "nbformat_minor": 2
}
