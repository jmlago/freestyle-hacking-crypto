{
 "cells": [
  {
   "cell_type": "code",
   "execution_count": 1,
   "metadata": {},
   "outputs": [],
   "source": [
    "import pandas as pd\n",
    "import requests\n",
    "import numpy as np\n",
    "import time\n",
    "from tqdm.notebook import tqdm"
   ]
  },
  {
   "cell_type": "code",
   "execution_count": 2,
   "metadata": {},
   "outputs": [],
   "source": [
    "api_key = \"R8EERJ6PCoryCAkm2V4xHYakXBZ2K6Bloo5xdwO3MFtsy4prBIiL7IjYPAEBVscR\""
   ]
  },
  {
   "cell_type": "code",
   "execution_count": 3,
   "metadata": {},
   "outputs": [],
   "source": [
    "def collection_info(collection_contract,api_key):\n",
    "    headers = {\"accept\": \"application/json\", \"X-API-Key\":api_key}\n",
    "    url = f\"https://deep-index.moralis.io/api/v2/nft/{collection_contract}/trades?chain=eth&marketplace=opensea\" # &offset=500&limit=1000\n",
    "    response = requests.request(\"GET\", url, headers=headers)\n",
    "    if response.status_code != 200:\n",
    "        print(f\"API returned status code {response.status_code}\")\n",
    "        print(f\"Probably you have exceeded API limitations!\")\n",
    "        return\n",
    "    content = response.json()\n",
    "    limit = int(content[\"total\"])\n",
    "    total_pages = int(np.ceil(limit / 500))\n",
    "    buyers = []\n",
    "    sellers = []\n",
    "    assets = []\n",
    "    prices_in_eth = []\n",
    "    block_timestamps = []\n",
    "    for i in tqdm(range(total_pages)):\n",
    "        offset = i*500\n",
    "        url = f\"https://deep-index.moralis.io/api/v2/nft/{collection_contract}/trades?chain=eth&marketplace=opensea&offset={offset}&limit={limit}\"\n",
    "        response = requests.request(\"GET\", url, headers=headers)\n",
    "        time.sleep(2)# else API rate breaks easily\n",
    "        content = response.json()\n",
    "        for tr in content[\"result\"]:\n",
    "            for asset in tr[\"token_ids\"]:\n",
    "                assets.append(asset)\n",
    "                buyers.append(tr[\"buyer_address\"])\n",
    "                sellers.append(tr[\"seller_address\"])\n",
    "                prices_in_eth.append(float(tr[\"price\"])/10**18/len(tr[\"token_ids\"])) #decimals of eth\n",
    "                block_timestamps.append(tr[\"block_timestamp\"])\n",
    "            \n",
    "    collection_addreses = pd.DataFrame(np.array([buyers,sellers,assets,prices_in_eth,block_timestamps]).T, columns=[\"buyer\",\"seller\",\"asset_id\",\"price_in_eth\",\"block_timestamp\"])\n",
    "    collection_addreses[\"block_timestamp\"] = pd.to_datetime(collection_addreses[\"block_timestamp\"])\n",
    "    collection_addreses[\"collection\"] = collection_contract\n",
    "    return collection_addreses"
   ]
  },
  {
   "cell_type": "code",
   "execution_count": 4,
   "metadata": {},
   "outputs": [
    {
     "data": {
      "application/vnd.jupyter.widget-view+json": {
       "model_id": "133fb744b5dd4562a7a346b08537dc3d",
       "version_major": 2,
       "version_minor": 0
      },
      "text/plain": [
       "  0%|          | 0/3 [00:00<?, ?it/s]"
      ]
     },
     "metadata": {},
     "output_type": "display_data"
    }
   ],
   "source": [
    "collection_contract = \"0x666E28522268113eAE44EA0D6Dd39c13648dD7cb\" # CryptoNoble\n",
    "cnoble_df = collection_info(collection_contract,api_key)"
   ]
  },
  {
   "cell_type": "code",
   "execution_count": 5,
   "metadata": {},
   "outputs": [
    {
     "data": {
      "application/vnd.jupyter.widget-view+json": {
       "model_id": "89af892847ef4098bc9bc189b05b8568",
       "version_major": 2,
       "version_minor": 0
      },
      "text/plain": [
       "  0%|          | 0/1 [00:00<?, ?it/s]"
      ]
     },
     "metadata": {},
     "output_type": "display_data"
    }
   ],
   "source": [
    "collection_contract = \"0x6D5C70cc8dADfE63759b339A9dEeB37b4fEdF6cb\" # AVGPunks\n",
    "avgp_df = collection_info(collection_contract,api_key)"
   ]
  },
  {
   "cell_type": "code",
   "execution_count": 6,
   "metadata": {},
   "outputs": [
    {
     "data": {
      "application/vnd.jupyter.widget-view+json": {
       "model_id": "b6d177a852e3461182d18c08cb76a89b",
       "version_major": 2,
       "version_minor": 0
      },
      "text/plain": [
       "  0%|          | 0/10 [00:00<?, ?it/s]"
      ]
     },
     "metadata": {},
     "output_type": "display_data"
    }
   ],
   "source": [
    "collection_contract = \"0xb4d06d46A8285F4EC79Fd294F78a881799d8cEd9\" # 3landers\n",
    "threel_df = collection_info(collection_contract,api_key)"
   ]
  },
  {
   "cell_type": "code",
   "execution_count": 7,
   "metadata": {},
   "outputs": [
    {
     "data": {
      "text/plain": [
       "(5618, 6)"
      ]
     },
     "execution_count": 7,
     "metadata": {},
     "output_type": "execute_result"
    }
   ],
   "source": [
    "threel_df.shape"
   ]
  },
  {
   "cell_type": "code",
   "execution_count": 8,
   "metadata": {},
   "outputs": [
    {
     "data": {
      "text/html": [
       "<div>\n",
       "<style scoped>\n",
       "    .dataframe tbody tr th:only-of-type {\n",
       "        vertical-align: middle;\n",
       "    }\n",
       "\n",
       "    .dataframe tbody tr th {\n",
       "        vertical-align: top;\n",
       "    }\n",
       "\n",
       "    .dataframe thead th {\n",
       "        text-align: right;\n",
       "    }\n",
       "</style>\n",
       "<table border=\"1\" class=\"dataframe\">\n",
       "  <thead>\n",
       "    <tr style=\"text-align: right;\">\n",
       "      <th></th>\n",
       "      <th>buyer</th>\n",
       "      <th>seller</th>\n",
       "      <th>asset_id</th>\n",
       "      <th>price_in_eth</th>\n",
       "      <th>block_timestamp</th>\n",
       "      <th>collection</th>\n",
       "    </tr>\n",
       "  </thead>\n",
       "  <tbody>\n",
       "    <tr>\n",
       "      <th>0</th>\n",
       "      <td>0x489d20b135c7e7325f22de88feab1b4b0bd61a8f</td>\n",
       "      <td>0x5896d4d9c12967c6a9c19d470b0e6c246892d732</td>\n",
       "      <td>356</td>\n",
       "      <td>0.45</td>\n",
       "      <td>2022-02-19 14:02:37+00:00</td>\n",
       "      <td>0xb4d06d46A8285F4EC79Fd294F78a881799d8cEd9</td>\n",
       "    </tr>\n",
       "    <tr>\n",
       "      <th>1</th>\n",
       "      <td>0xbdf7ecd3938bc86373d15709fe09dcf9bb677ca7</td>\n",
       "      <td>0x210dc0506bfdab95c855871ad7011a309e518585</td>\n",
       "      <td>218</td>\n",
       "      <td>0.6</td>\n",
       "      <td>2022-02-19 14:03:18+00:00</td>\n",
       "      <td>0xb4d06d46A8285F4EC79Fd294F78a881799d8cEd9</td>\n",
       "    </tr>\n",
       "    <tr>\n",
       "      <th>2</th>\n",
       "      <td>0xd5d4aafb3b2217607e5b5b5526eb6932f8df130f</td>\n",
       "      <td>0x5896d4d9c12967c6a9c19d470b0e6c246892d732</td>\n",
       "      <td>357</td>\n",
       "      <td>0.55</td>\n",
       "      <td>2022-02-19 14:03:46+00:00</td>\n",
       "      <td>0xb4d06d46A8285F4EC79Fd294F78a881799d8cEd9</td>\n",
       "    </tr>\n",
       "    <tr>\n",
       "      <th>3</th>\n",
       "      <td>0x12f3ab830cdd9db348a06a8eda0619a9c2ec10b8</td>\n",
       "      <td>0xb740816663457328b9a3e057339b758b2e2114cd</td>\n",
       "      <td>288</td>\n",
       "      <td>0.7</td>\n",
       "      <td>2022-02-19 14:04:32+00:00</td>\n",
       "      <td>0xb4d06d46A8285F4EC79Fd294F78a881799d8cEd9</td>\n",
       "    </tr>\n",
       "    <tr>\n",
       "      <th>4</th>\n",
       "      <td>0x53f67a525f5dd7d6dc5fe8d06af204b5f1028601</td>\n",
       "      <td>0xf914209fbfb74b2942ecd8890383c5b9d8541535</td>\n",
       "      <td>314</td>\n",
       "      <td>0.699</td>\n",
       "      <td>2022-02-19 14:04:32+00:00</td>\n",
       "      <td>0xb4d06d46A8285F4EC79Fd294F78a881799d8cEd9</td>\n",
       "    </tr>\n",
       "  </tbody>\n",
       "</table>\n",
       "</div>"
      ],
      "text/plain": [
       "                                        buyer  \\\n",
       "0  0x489d20b135c7e7325f22de88feab1b4b0bd61a8f   \n",
       "1  0xbdf7ecd3938bc86373d15709fe09dcf9bb677ca7   \n",
       "2  0xd5d4aafb3b2217607e5b5b5526eb6932f8df130f   \n",
       "3  0x12f3ab830cdd9db348a06a8eda0619a9c2ec10b8   \n",
       "4  0x53f67a525f5dd7d6dc5fe8d06af204b5f1028601   \n",
       "\n",
       "                                       seller asset_id price_in_eth  \\\n",
       "0  0x5896d4d9c12967c6a9c19d470b0e6c246892d732      356         0.45   \n",
       "1  0x210dc0506bfdab95c855871ad7011a309e518585      218          0.6   \n",
       "2  0x5896d4d9c12967c6a9c19d470b0e6c246892d732      357         0.55   \n",
       "3  0xb740816663457328b9a3e057339b758b2e2114cd      288          0.7   \n",
       "4  0xf914209fbfb74b2942ecd8890383c5b9d8541535      314        0.699   \n",
       "\n",
       "            block_timestamp                                  collection  \n",
       "0 2022-02-19 14:02:37+00:00  0xb4d06d46A8285F4EC79Fd294F78a881799d8cEd9  \n",
       "1 2022-02-19 14:03:18+00:00  0xb4d06d46A8285F4EC79Fd294F78a881799d8cEd9  \n",
       "2 2022-02-19 14:03:46+00:00  0xb4d06d46A8285F4EC79Fd294F78a881799d8cEd9  \n",
       "3 2022-02-19 14:04:32+00:00  0xb4d06d46A8285F4EC79Fd294F78a881799d8cEd9  \n",
       "4 2022-02-19 14:04:32+00:00  0xb4d06d46A8285F4EC79Fd294F78a881799d8cEd9  "
      ]
     },
     "execution_count": 8,
     "metadata": {},
     "output_type": "execute_result"
    }
   ],
   "source": [
    "threel_df.head()"
   ]
  },
  {
   "cell_type": "code",
   "execution_count": null,
   "metadata": {},
   "outputs": [],
   "source": []
  }
 ],
 "metadata": {
  "interpreter": {
   "hash": "f522d0510587305ab25b4568d494c81eb206e36c206c4ee3db8c1f2e33432fac"
  },
  "kernelspec": {
   "display_name": "Python 3 (ipykernel)",
   "language": "python",
   "name": "python3"
  },
  "language_info": {
   "codemirror_mode": {
    "name": "ipython",
    "version": 3
   },
   "file_extension": ".py",
   "mimetype": "text/x-python",
   "name": "python",
   "nbconvert_exporter": "python",
   "pygments_lexer": "ipython3",
   "version": "3.10.2"
  }
 },
 "nbformat": 4,
 "nbformat_minor": 2
}
