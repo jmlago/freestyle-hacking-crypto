{
 "cells": [
  {
   "cell_type": "code",
   "execution_count": 1,
   "id": "a296264f",
   "metadata": {},
   "outputs": [],
   "source": [
    "import datetime\n",
    "from datetime import timedelta, date\n",
    "from time import sleep\n",
    "\n",
    "import requests\n",
    "import pandas as pd\n",
    "import numpy as np\n",
    "\n",
    "from tqdm.notebook import trange, tqdm"
   ]
  },
  {
   "cell_type": "code",
   "execution_count": 2,
   "id": "0afe68d1",
   "metadata": {},
   "outputs": [],
   "source": [
    "api_key = \"\""
   ]
  },
  {
   "cell_type": "code",
   "execution_count": 3,
   "id": "83140a04",
   "metadata": {},
   "outputs": [],
   "source": [
    "## A simple function to use requests.post to make the API call\n",
    "\n",
    "def run_query(query):  \n",
    "    headers = {'X-API-KEY': api_key}\n",
    "    request = requests.post('https://graphql.bitquery.io/',\n",
    "                            json={'query': query}, headers=headers)\n",
    "    if request.status_code == 200:\n",
    "        return request.json()\n",
    "    else:\n",
    "        raise Exception('Query failed and return code is {}.      {}'.format(request.status_code,\n",
    "                        query))"
   ]
  },
  {
   "cell_type": "code",
   "execution_count": 4,
   "id": "64cc8a30",
   "metadata": {},
   "outputs": [],
   "source": [
    "## Stochastic search for collections that were active during last month\n",
    "\n",
    "def stochastic_active_collections_search(days=30,sleep_secs=0):\n",
    "    t = datetime.datetime.now() - timedelta(days=days)\n",
    "\n",
    "    collections = []\n",
    "    for d in trange(days):\n",
    "        for h in trange(24):\n",
    "            t1 = t\n",
    "            t2 = t + timedelta(hours=1)\n",
    "            t += timedelta(hours=1)\n",
    "\n",
    "            t1 = t1.strftime('%Y-%m-%dT%H:%M:%SZ')\n",
    "            t2 = t2.strftime('%Y-%m-%dT%H:%M:%SZ')\n",
    "\n",
    "            query = '''\n",
    "\n",
    "                {\n",
    "                  ethereum(network: ethereum) {\n",
    "                    smartContractCalls(\n",
    "                      time: {since:\"'''+ t1+'\", till: \"'+t2+'''\"}\n",
    "                      smartContractMethod: {is: \"atomicMatch_\"}\n",
    "                      smartContractAddress: {is: \"0x7Be8076f4EA4A4AD08075C2508e481d6C946D12b\"}\n",
    "                    ) {\n",
    "                      transaction {\n",
    "                        hash\n",
    "                      }\n",
    "                      arguments {\n",
    "                        argument\n",
    "                        value\n",
    "                      }\n",
    "                    }\n",
    "                  }\n",
    "                }\n",
    "\n",
    "            '''\n",
    "            result = run_query(query)  # Execute the query\n",
    "            for el in result[\"data\"][\"ethereum\"][\"smartContractCalls\"]:\n",
    "                collections.append(el[\"arguments\"][4][\"value\"]) # <- NFT Collection\n",
    "            sleep(sleep_secs)\n",
    "    collections_frame = pd.DataFrame(collections,columns=[\"collection\"]).groupby(\"collection\").size().to_frame().reset_index()\n",
    "    collections_frame.columns = [\"collection\",\"ocurrences\"]\n",
    "    return collections_frame"
   ]
  },
  {
   "cell_type": "code",
   "execution_count": 5,
   "id": "275457a1",
   "metadata": {},
   "outputs": [
    {
     "data": {
      "application/vnd.jupyter.widget-view+json": {
       "model_id": "8edead9c93564219a63ef1ddb8d1e030",
       "version_major": 2,
       "version_minor": 0
      },
      "text/plain": [
       "  0%|          | 0/2 [00:00<?, ?it/s]"
      ]
     },
     "metadata": {},
     "output_type": "display_data"
    },
    {
     "data": {
      "application/vnd.jupyter.widget-view+json": {
       "model_id": "4a784ddb352d418abc651973eafa2efc",
       "version_major": 2,
       "version_minor": 0
      },
      "text/plain": [
       "  0%|          | 0/24 [00:00<?, ?it/s]"
      ]
     },
     "metadata": {},
     "output_type": "display_data"
    },
    {
     "data": {
      "application/vnd.jupyter.widget-view+json": {
       "model_id": "79ffedb76574499284add30a135af360",
       "version_major": 2,
       "version_minor": 0
      },
      "text/plain": [
       "  0%|          | 0/24 [00:00<?, ?it/s]"
      ]
     },
     "metadata": {},
     "output_type": "display_data"
    }
   ],
   "source": [
    "collections = stochastic_active_collections_search(days=2,sleep_secs=1)"
   ]
  },
  {
   "cell_type": "code",
   "execution_count": 10,
   "id": "6c92d183",
   "metadata": {},
   "outputs": [],
   "source": [
    "collections[1:].to_csv(\"./data/opensea_collections.csv\")"
   ]
  },
  {
   "cell_type": "code",
   "execution_count": null,
   "id": "7261eceb",
   "metadata": {},
   "outputs": [],
   "source": []
  }
 ],
 "metadata": {
  "kernelspec": {
   "display_name": "Python 3 (ipykernel)",
   "language": "python",
   "name": "python3"
  },
  "language_info": {
   "codemirror_mode": {
    "name": "ipython",
    "version": 3
   },
   "file_extension": ".py",
   "mimetype": "text/x-python",
   "name": "python",
   "nbconvert_exporter": "python",
   "pygments_lexer": "ipython3",
   "version": "3.10.2"
  }
 },
 "nbformat": 4,
 "nbformat_minor": 5
}
