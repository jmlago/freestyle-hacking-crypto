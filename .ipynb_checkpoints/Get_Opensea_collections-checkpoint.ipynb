{
 "cells": [
  {
   "cell_type": "code",
   "execution_count": 1,
   "id": "b4b2b42a",
   "metadata": {},
   "outputs": [],
   "source": [
    "import requests\n",
    "import pandas as pd\n",
    "import numpy as np\n",
    "from tqdm.notebook import tqdm\n",
    "import time"
   ]
  },
  {
   "cell_type": "code",
   "execution_count": 2,
   "id": "72c3de06",
   "metadata": {},
   "outputs": [
    {
     "data": {
      "text/plain": [
       "18.88888888888889"
      ]
     },
     "execution_count": 2,
     "metadata": {},
     "output_type": "execute_result"
    }
   ],
   "source": [
    "# all opensea transactions\n",
    "# those that execute atomicMatch_ function\n",
    "# address from moralis endpoint /transactions/{transaction_hash}\n",
    "# drop duplicates -> all collections\n",
    "17000000/500*2/3600"
   ]
  },
  {
   "cell_type": "code",
   "execution_count": 3,
   "id": "f8d46ca1",
   "metadata": {},
   "outputs": [],
   "source": [
    "# txn_hash, block_timestamp, block_number\n",
    "marketplace_contract = \"0x7Be8076f4EA4A4AD08075C2508e481d6C946D12b\"\n",
    "api_key = \"R8EERJ6PCoryCAkm2V4xHYakXBZ2K6Bloo5xdwO3MFtsy4prBIiL7IjYPAEBVscR\""
   ]
  },
  {
   "cell_type": "code",
   "execution_count": 4,
   "id": "fe8d0815",
   "metadata": {},
   "outputs": [],
   "source": [
    "def all_contract_transactions(marketplace_contract,api_key):\n",
    "    headers = {\"accept\": \"application/json\", \"X-API-Key\":api_key}\n",
    "    url =  f'https://deep-index.moralis.io/api/v2/{marketplace_contract}?chain=eth' # &offset=500&limit=1000\n",
    "    response = requests.request(\"GET\", url, headers=headers)\n",
    "    if response.status_code != 200:\n",
    "        print(f\"API returned status code {response.status_code}\")\n",
    "        print(f\"Probably you have exceeded API limitations!\")\n",
    "        return\n",
    "    content = response.json()\n",
    "    limit = int(content[\"total\"])\n",
    "    total_pages = int(np.ceil(limit / 500))\n",
    "    txn_hashes = []\n",
    "    block_numbers = []\n",
    "    block_timestamps = []\n",
    "    for i in tqdm(range(total_pages)):\n",
    "        try:\n",
    "            offset = i*500\n",
    "            url =  f'https://deep-index.moralis.io/api/v2/{marketplace_contract}?chain=eth&offset={offset}&limit={limit}'\n",
    "            response = requests.request(\"GET\", url, headers=headers)\n",
    "            content = response.json()\n",
    "            for tr in content[\"result\"]:\n",
    "                txn_hashes.append(tr[\"hash\"])\n",
    "                block_numbers.append(tr[\"block_number\"])\n",
    "                block_timestamps.append(tr[\"block_timestamp\"])\n",
    "        except:\n",
    "            break\n",
    "    collection_addreses = pd.DataFrame(np.array([txn_hashes,block_numbers,block_timestamps]).T, \n",
    "                                       columns=[\"txn_hash\",\"block_number\",\"block_timestamp\"])\n",
    "    collection_addreses[\"block_timestamp\"] = pd.to_datetime(collection_addreses[\"block_timestamp\"])\n",
    "    return collection_addreses"
   ]
  },
  {
   "cell_type": "code",
   "execution_count": null,
   "id": "98ea235e",
   "metadata": {},
   "outputs": [
    {
     "data": {
      "application/vnd.jupyter.widget-view+json": {
       "model_id": "c53f851c556a4e988d3a5c794b2cba93",
       "version_major": 2,
       "version_minor": 0
      },
      "text/plain": [
       "  0%|          | 0/33878 [00:00<?, ?it/s]"
      ]
     },
     "metadata": {},
     "output_type": "display_data"
    }
   ],
   "source": [
    "opensea_data = all_contract_transactions(marketplace_contract, api_key)"
   ]
  },
  {
   "cell_type": "code",
   "execution_count": null,
   "id": "75547ddf",
   "metadata": {},
   "outputs": [],
   "source": [
    "opensea_data[\"block_timestamp\"].min(),opensea_data[\"block_timestamp\"].max()"
   ]
  },
  {
   "cell_type": "code",
   "execution_count": null,
   "id": "261e8f52",
   "metadata": {},
   "outputs": [],
   "source": [
    "opensea_data.to_csv(\"/home/jmlago/opensea_data.csv\")"
   ]
  }
 ],
 "metadata": {
  "kernelspec": {
   "display_name": "Python 3 (ipykernel)",
   "language": "python",
   "name": "python3"
  },
  "language_info": {
   "codemirror_mode": {
    "name": "ipython",
    "version": 3
   },
   "file_extension": ".py",
   "mimetype": "text/x-python",
   "name": "python",
   "nbconvert_exporter": "python",
   "pygments_lexer": "ipython3",
   "version": "3.10.2"
  }
 },
 "nbformat": 4,
 "nbformat_minor": 5
}
